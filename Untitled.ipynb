{
 "cells": [
  {
   "cell_type": "code",
   "execution_count": 5,
   "id": "1f6f7d67-25bc-45c5-a4a1-5712d8b21e56",
   "metadata": {},
   "outputs": [
    {
     "name": "stdout",
     "output_type": "stream",
     "text": [
      "Hello World from CPU\n",
      "\n"
     ]
    }
   ],
   "source": [
    "from numba import jit, cuda\n",
    "\n",
    "@cuda.jit\n",
    "def hello_fromGPU(n):\n",
    "    tid = cuda.blockIdx.x*cuda.blockDim.x + cuda.threadIdx.x\n",
    "    print(\"Hello World from thread \", n,tid)\n",
    "\n",
    "def hello_fromCPU():\n",
    "    print(\"Hello World from CPU\\n\")\n",
    "\n",
    "hello_fromGPU[2,3](0)\n",
    "hello_fromGPU[2,3](1)\n",
    "cuda.synchronize()\n",
    "hello_fromCPU()"
   ]
  },
  {
   "cell_type": "code",
   "execution_count": null,
   "id": "662d6c77-5250-4b34-b6e5-db53100cb905",
   "metadata": {},
   "outputs": [],
   "source": []
  }
 ],
 "metadata": {
  "kernelspec": {
   "display_name": "Python 3",
   "language": "python",
   "name": "python3"
  },
  "language_info": {
   "codemirror_mode": {
    "name": "ipython",
    "version": 3
   },
   "file_extension": ".py",
   "mimetype": "text/x-python",
   "name": "python",
   "nbconvert_exporter": "python",
   "pygments_lexer": "ipython3",
   "version": "3.8.8"
  }
 },
 "nbformat": 4,
 "nbformat_minor": 5
}
