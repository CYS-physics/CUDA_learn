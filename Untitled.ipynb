{
 "cells": [
  {
   "cell_type": "code",
   "execution_count": 4,
   "id": "1f6f7d67-25bc-45c5-a4a1-5712d8b21e56",
   "metadata": {},
   "outputs": [],
   "source": [
    "from numba import jit, cuda\n",
    "\n",
    "@cuda.jit\n",
    "def hello_fromGPU(n):\n",
    "    tid = cuda.blockIdx.x*cuda.blockDim.x + cuda.threadIdx.x\n",
    "    print(\"Hello World from thread \", n,tid)\n",
    "\n",
    "def hello_fromCPU():\n",
    "    print(\"Hello World from CPU\\n\")\n",
    "\n"
   ]
  },
  {
   "cell_type": "code",
   "execution_count": 5,
   "id": "662d6c77-5250-4b34-b6e5-db53100cb905",
   "metadata": {},
   "outputs": [
    {
     "name": "stdout",
     "output_type": "stream",
     "text": [
      "Hello World from CPU\n",
      "\n"
     ]
    }
   ],
   "source": [
    "hello_fromGPU[2,3](0)\n",
    "hello_fromGPU[2,3](1)\n",
    "cuda.synchronize()\n",
    "hello_fromCPU()"
   ]
  },
  {
   "cell_type": "code",
   "execution_count": 6,
   "id": "c4c0be33-51a8-4a36-b8e7-3100ba110927",
   "metadata": {},
   "outputs": [
    {
     "name": "stdout",
     "output_type": "stream",
     "text": [
      "0\n",
      "1\n"
     ]
    }
   ],
   "source": [
    "import numpy as np\n",
    "from numba import cuda\n",
    "\n",
    "@cuda.jit\n",
    "def add_constant(n, arr):\n",
    "    pos = cuda.grid(1)\n",
    "    if n<arr.size:\n",
    "        arr[pos] += n\n",
    "\n",
    "dNum = 1<<20\n",
    "# ndarray in the host \n",
    "h_Array = np.arange(dNum, dtype=int)\n",
    "\n",
    "# allocate an empty device ndarray\n",
    "d_Array = cuda.device_array_like(h_Array)\n",
    "# copy from host to device\n",
    "d_Array = cuda.to_device(h_Array)\n",
    "\n",
    "# kernel\n",
    "nThreads = 32\n",
    "nBlocks = (dNum+nThreads-1)//nThreads\n",
    "add_constant[nBlocks, nThreads](1, d_Array)\n",
    "\n",
    "print(h_Array[0])\n",
    "\n",
    "# copy from device to host\n",
    "d_Array.copy_to_host(h_Array)\n",
    "\n",
    "print(h_Array[0])\n"
   ]
  },
  {
   "cell_type": "code",
   "execution_count": null,
   "id": "989dc1bc-7917-45e8-ad45-6e4b76a84e03",
   "metadata": {},
   "outputs": [],
   "source": []
  }
 ],
 "metadata": {
  "kernelspec": {
   "display_name": "Python 3",
   "language": "python",
   "name": "python3"
  },
  "language_info": {
   "codemirror_mode": {
    "name": "ipython",
    "version": 3
   },
   "file_extension": ".py",
   "mimetype": "text/x-python",
   "name": "python",
   "nbconvert_exporter": "python",
   "pygments_lexer": "ipython3",
   "version": "3.8.8"
  }
 },
 "nbformat": 4,
 "nbformat_minor": 5
}
